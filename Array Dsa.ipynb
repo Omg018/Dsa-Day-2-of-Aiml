{
 "cells": [
  {
   "cell_type": "markdown",
   "id": "770c7992",
   "metadata": {},
   "source": [
    "# Normal Dsa"
   ]
  },
  {
   "cell_type": "code",
   "execution_count": 21,
   "id": "96ed5855-525a-4a73-8166-511e78c33ec7",
   "metadata": {},
   "outputs": [
    {
     "name": "stdout",
     "output_type": "stream",
     "text": [
      "20\n",
      "Lowest value:  1\n"
     ]
    }
   ],
   "source": [
    "arr = [20,13,4,2,1]\n",
    "minVal = arr[0]\n",
    "print(arr[0])\n",
    "for i in arr:\n",
    "    if i < minVal:\n",
    "        minVal = i\n",
    "\n",
    "print(\"Lowest value: \",minVal)"
   ]
  },
  {
   "cell_type": "markdown",
   "id": "01e61343",
   "metadata": {},
   "source": [
    "# Merge Array"
   ]
  },
  {
   "cell_type": "code",
   "execution_count": 22,
   "id": "2c25ff89-d825-4259-9f8b-58d4a978ecc4",
   "metadata": {},
   "outputs": [
    {
     "name": "stdout",
     "output_type": "stream",
     "text": [
      "Sorted array: [-13, -10, 3, 6, 7, 15, 23.5, 55]\n"
     ]
    }
   ],
   "source": [
    "def mergeSort(arr):\n",
    "    if len(arr) <= 1:\n",
    "        return arr\n",
    "\n",
    "    mid = len(arr) // 2\n",
    "    leftHalf = arr[:mid]\n",
    "    rightHalf = arr[mid:]\n",
    "\n",
    "    sortedLeft = mergeSort(leftHalf)\n",
    "    sortedRight = mergeSort(rightHalf)\n",
    "\n",
    "    return merge(sortedLeft, sortedRight)\n",
    "\n",
    "def merge(left, right):\n",
    "    result = []\n",
    "    i = j = 0\n",
    "\n",
    "    while i < len(left) and j < len(right):\n",
    "        if left[i] < right[j]:\n",
    "            result.append(left[i])\n",
    "            i += 1\n",
    "        else:\n",
    "            result.append(right[j])\n",
    "            j += 1\n",
    "\n",
    "    result.extend(left[i:])\n",
    "    result.extend(right[j:])\n",
    "\n",
    "    return result\n",
    "\n",
    "unsortedArr = [3, 7, 6, -10, 15, 23.5, 55, -13]\n",
    "sortedArr = mergeSort(unsortedArr)\n",
    "print(\"Sorted array:\", sortedArr)"
   ]
  },
  {
   "cell_type": "markdown",
   "id": "bc9f902b",
   "metadata": {},
   "source": [
    "# Quick Sort"
   ]
  },
  {
   "cell_type": "code",
   "execution_count": 25,
   "id": "ab22813c",
   "metadata": {},
   "outputs": [
    {
     "name": "stdout",
     "output_type": "stream",
     "text": [
      "Sorted array: [5, 11, 12, 22, 25, 34, 64, 90]\n"
     ]
    }
   ],
   "source": [
    "def partition(array, low, high):\n",
    "    pivot = array[high]\n",
    "    i = low - 1\n",
    "\n",
    "    for j in range(low, high):\n",
    "        if array[j] <= pivot:\n",
    "            i += 1\n",
    "            array[i], array[j] = array[j], array[i]\n",
    "\n",
    "    array[i+1], array[high] = array[high], array[i+1]\n",
    "    return i+1\n",
    "\n",
    "def quicksort(array, low=0, high=None):\n",
    "    if high is None:\n",
    "        high = len(array) - 1\n",
    "\n",
    "    if low < high:\n",
    "        pivot_index = partition(array, low, high)\n",
    "        quicksort(array, low, pivot_index-1)\n",
    "        quicksort(array, pivot_index+1, high)\n",
    "\n",
    "my_array = [64, 34, 25, 12, 22, 11, 90, 5]\n",
    "quicksort(my_array)\n",
    "print(\"Sorted array:\", my_array)"
   ]
  },
  {
   "cell_type": "markdown",
   "id": "55a6ed6b",
   "metadata": {},
   "source": [
    "#  Selection Sort"
   ]
  },
  {
   "cell_type": "code",
   "execution_count": 26,
   "id": "d79d7039",
   "metadata": {},
   "outputs": [
    {
     "name": "stdout",
     "output_type": "stream",
     "text": [
      "Sorted array: [5, 11, 12, 22, 25, 34, 64, 90]\n"
     ]
    }
   ],
   "source": [
    "my_array = [64, 34, 25, 5, 22, 11, 90, 12]\n",
    "\n",
    "n = len(my_array)\n",
    "for i in range(n-1):\n",
    "    min_index = i\n",
    "    for j in range(i+1, n):\n",
    "        if my_array[j] < my_array[min_index]:\n",
    "            min_index = j\n",
    "    min_value = my_array.pop(min_index)\n",
    "    my_array.insert(i, min_value)\n",
    "\n",
    "print(\"Sorted array:\", my_array)"
   ]
  },
  {
   "cell_type": "markdown",
   "id": "6c4349b8",
   "metadata": {},
   "source": [
    "# Insertion Sort\n"
   ]
  },
  {
   "cell_type": "code",
   "execution_count": 27,
   "id": "9b761873",
   "metadata": {},
   "outputs": [
    {
     "name": "stdout",
     "output_type": "stream",
     "text": [
      "Sorted array: [5, 11, 12, 22, 25, 34, 64, 90]\n"
     ]
    }
   ],
   "source": [
    "my_array = [64, 34, 25, 12, 22, 11, 90, 5]\n",
    "\n",
    "n = len(my_array)\n",
    "for i in range(1,n):\n",
    "    insert_index = i\n",
    "    current_value = my_array.pop(i)\n",
    "    for j in range(i-1, -1, -1):\n",
    "        if my_array[j] > current_value:\n",
    "            insert_index = j\n",
    "    my_array.insert(insert_index, current_value)\n",
    "\n",
    "print(\"Sorted array:\", my_array)"
   ]
  },
  {
   "cell_type": "markdown",
   "id": "dfcd5dce",
   "metadata": {},
   "source": [
    "# Quicksort"
   ]
  },
  {
   "cell_type": "code",
   "execution_count": 28,
   "id": "40db4f5b",
   "metadata": {},
   "outputs": [
    {
     "name": "stdout",
     "output_type": "stream",
     "text": [
      "Sorted array: [5, 11, 12, 22, 25, 34, 64, 90]\n"
     ]
    }
   ],
   "source": [
    "def partition(array, low, high):\n",
    "    pivot = array[high]\n",
    "    i = low - 1\n",
    "\n",
    "    for j in range(low, high):\n",
    "        if array[j] <= pivot:\n",
    "            i += 1\n",
    "            array[i], array[j] = array[j], array[i]\n",
    "\n",
    "    array[i+1], array[high] = array[high], array[i+1]\n",
    "    return i+1\n",
    "\n",
    "def quicksort(array, low=0, high=None):\n",
    "    if high is None:\n",
    "        high = len(array) - 1\n",
    "\n",
    "    if low < high:\n",
    "        pivot_index = partition(array, low, high)\n",
    "        quicksort(array, low, pivot_index-1)\n",
    "        quicksort(array, pivot_index+1, high)\n",
    "\n",
    "my_array = [64, 34, 25, 12, 22, 11, 90, 5]\n",
    "quicksort(my_array)\n",
    "print(\"Sorted array:\", my_array)"
   ]
  },
  {
   "cell_type": "markdown",
   "id": "f35524a8",
   "metadata": {},
   "source": [
    "# Counting Sort"
   ]
  },
  {
   "cell_type": "code",
   "execution_count": 29,
   "id": "74c2a932",
   "metadata": {},
   "outputs": [
    {
     "name": "stdout",
     "output_type": "stream",
     "text": [
      "Sorted array: [1, 2, 2, 2, 3, 3, 3, 4, 5, 6, 6]\n"
     ]
    }
   ],
   "source": [
    "def countingSort(arr):\n",
    "    max_val = max(arr)\n",
    "    count = [0] * (max_val + 1)\n",
    "\n",
    "    while len(arr) > 0:\n",
    "        num = arr.pop(0)\n",
    "        count[num] += 1\n",
    "\n",
    "    for i in range(len(count)):\n",
    "        while count[i] > 0:\n",
    "            arr.append(i)\n",
    "            count[i] -= 1\n",
    "\n",
    "    return arr\n",
    "\n",
    "unsortedArr = [4, 2, 2, 6, 3, 3, 1, 6, 5, 2, 3]\n",
    "sortedArr = countingSort(unsortedArr)\n",
    "print(\"Sorted array:\", sortedArr)"
   ]
  },
  {
   "cell_type": "markdown",
   "id": "d570586d",
   "metadata": {},
   "source": [
    "# Linear Search"
   ]
  },
  {
   "cell_type": "code",
   "execution_count": 30,
   "id": "500626f9",
   "metadata": {},
   "outputs": [
    {
     "name": "stdout",
     "output_type": "stream",
     "text": [
      "Value 9 found at index 3\n"
     ]
    }
   ],
   "source": [
    "def linearSearch(arr, targetVal):\n",
    "    for i in range(len(arr)):\n",
    "        if arr[i] == targetVal:\n",
    "            return i\n",
    "    return -1\n",
    "\n",
    "arr = [3, 7, 2, 9, 5]\n",
    "targetVal = 9\n",
    "\n",
    "result = linearSearch(arr, targetVal)\n",
    "\n",
    "if result != -1:\n",
    "    print(\"Value\",targetVal,\"found at index\",result)\n",
    "else:\n",
    "    print(\"Value\",targetVal,\"not found\")"
   ]
  },
  {
   "cell_type": "markdown",
   "id": "30797d6a",
   "metadata": {},
   "source": [
    "# Binary Search"
   ]
  },
  {
   "cell_type": "code",
   "execution_count": 31,
   "id": "15337ff3",
   "metadata": {},
   "outputs": [
    {
     "name": "stdout",
     "output_type": "stream",
     "text": [
      "Value 15 found at index 7\n"
     ]
    }
   ],
   "source": [
    "def binarySearch(arr, targetVal):\n",
    "    left = 0\n",
    "    right = len(arr) - 1\n",
    "\n",
    "    while left <= right:\n",
    "        mid = (left + right) // 2\n",
    "\n",
    "        if arr[mid] == targetVal:\n",
    "            return mid\n",
    "        \n",
    "        if arr[mid] < targetVal:\n",
    "            left = mid + 1\n",
    "        else:\n",
    "            right = mid - 1\n",
    "\n",
    "    return -1\n",
    "\n",
    "myArray = [1, 3, 5, 7, 9, 11, 13, 15, 17, 19]\n",
    "myTarget = 15\n",
    "\n",
    "result = binarySearch(myArray, myTarget)\n",
    "\n",
    "if result != -1:\n",
    "    print(\"Value\",myTarget,\"found at index\", result)\n",
    "else:\n",
    "    print(\"Target not found in array.\")"
   ]
  },
  {
   "cell_type": "markdown",
   "id": "0c0db948",
   "metadata": {},
   "source": []
  },
  {
   "cell_type": "code",
   "execution_count": null,
   "id": "4a8ff305",
   "metadata": {},
   "outputs": [],
   "source": []
  }
 ],
 "metadata": {
  "kernelspec": {
   "display_name": "Python 3 (ipykernel)",
   "language": "python",
   "name": "python3"
  },
  "language_info": {
   "codemirror_mode": {
    "name": "ipython",
    "version": 3
   },
   "file_extension": ".py",
   "mimetype": "text/x-python",
   "name": "python",
   "nbconvert_exporter": "python",
   "pygments_lexer": "ipython3",
   "version": "3.12.1"
  }
 },
 "nbformat": 4,
 "nbformat_minor": 5
}
