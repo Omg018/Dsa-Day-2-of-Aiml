{
 "cells": [
  {
   "cell_type": "markdown",
   "metadata": {},
   "source": [
    "# Linked List   "
   ]
  },
  {
   "cell_type": "code",
   "execution_count": 2,
   "metadata": {},
   "outputs": [
    {
     "name": "stdout",
     "output_type": "stream",
     "text": [
      "7 -> 11 -> 3 -> 2 -> 9 -> null\n"
     ]
    }
   ],
   "source": [
    "class Node:\n",
    "    def __init__(self, data):\n",
    "        self.data = data\n",
    "        self.next = None\n",
    "\n",
    "def traverseAndPrint(head):\n",
    "    currentNode = head\n",
    "    while currentNode:\n",
    "        print(currentNode.data, end=\" -> \")\n",
    "        currentNode = currentNode.next\n",
    "    print(\"null\")\n",
    "\n",
    "node1 = Node(7)\n",
    "node2 = Node(11)\n",
    "node3 = Node(3)\n",
    "node4 = Node(2)\n",
    "node5 = Node(9)\n",
    "\n",
    "node1.next = node2\n",
    "node2.next = node3\n",
    "node3.next = node4\n",
    "node4.next = node5\n",
    "\n",
    "traverseAndPrint(node1)"
   ]
  },
  {
   "cell_type": "code",
   "execution_count": 3,
   "metadata": {},
   "outputs": [
    {
     "name": "stdout",
     "output_type": "stream",
     "text": [
      "Original list:\n",
      "7 -> 3 -> 2 -> 9 -> null\n",
      "\n",
      "After insertion:\n",
      "7 -> 97 -> 3 -> 2 -> 9 -> null\n"
     ]
    }
   ],
   "source": [
    "class Node:\n",
    "    def __init__(self, data):\n",
    "        self.data = data\n",
    "        self.next = None\n",
    "\n",
    "def traverseAndPrint(head):\n",
    "    currentNode = head\n",
    "    while currentNode:\n",
    "        print(currentNode.data, end=\" -> \")\n",
    "        currentNode = currentNode.next\n",
    "    print(\"null\")\n",
    "\n",
    "def insertNodeAtPosition(head, newNode, position):\n",
    "    if position == 1:\n",
    "        newNode.next = head\n",
    "        return newNode\n",
    "    \n",
    "    currentNode = head\n",
    "    for _ in range(position - 2):\n",
    "        if currentNode is None:\n",
    "            break\n",
    "        currentNode = currentNode.next\n",
    "\n",
    "    newNode.next = currentNode.next\n",
    "    currentNode.next = newNode\n",
    "    return head\n",
    "\n",
    "node1 = Node(7)\n",
    "node2 = Node(3)\n",
    "node3 = Node(2)\n",
    "node4 = Node(9)\n",
    "\n",
    "node1.next = node2\n",
    "node2.next = node3\n",
    "node3.next = node4\n",
    "\n",
    "print(\"Original list:\")\n",
    "traverseAndPrint(node1)\n",
    "\n",
    "# Insert a new node with value 97 at position 2\n",
    "newNode = Node(97)\n",
    "node1 = insertNodeAtPosition(node1, newNode, 2)\n",
    "\n",
    "print(\"\\nAfter insertion:\")\n",
    "traverseAndPrint(node1)"
   ]
  },
  {
   "cell_type": "code",
   "execution_count": null,
   "metadata": {},
   "outputs": [],
   "source": []
  }
 ],
 "metadata": {
  "kernelspec": {
   "display_name": "Python 3",
   "language": "python",
   "name": "python3"
  },
  "language_info": {
   "codemirror_mode": {
    "name": "ipython",
    "version": 3
   },
   "file_extension": ".py",
   "mimetype": "text/x-python",
   "name": "python",
   "nbconvert_exporter": "python",
   "pygments_lexer": "ipython3",
   "version": "3.12.1"
  }
 },
 "nbformat": 4,
 "nbformat_minor": 2
}
